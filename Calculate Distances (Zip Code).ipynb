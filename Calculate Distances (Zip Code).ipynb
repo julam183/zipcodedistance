{
 "cells": [
  {
   "cell_type": "code",
   "execution_count": 1,
   "metadata": {},
   "outputs": [],
   "source": [
    "import geopy\n",
    "from pyzipcode import ZipCodeDatabase\n",
    "from geopy.distance import great_circle"
   ]
  },
  {
   "cell_type": "code",
   "execution_count": 2,
   "metadata": {
    "collapsed": true
   },
   "outputs": [],
   "source": [
    "def getdistance(zipcode1, zipcode2, measure=\"miles\"):\n",
    "    zcdb = ZipCodeDatabase()\n",
    "    \n",
    "    ## get long/lat for zipcodes\n",
    "    long1 = zcdb[zipcode1].longitude\n",
    "    lat1 = zcdb[zipcode1].latitude\n",
    "    long2 = zcdb[zipcode2].longitude\n",
    "    lat2 = zcdb[zipcode1].latitude\n",
    "    \n",
    "    ## create coordinates for zipcodes\n",
    "    zip1 = (lat1, long1)\n",
    "    zip2 = (lat2, long2)\n",
    "    \n",
    "    ## calculate distance\n",
    "    distance = great_circle(zip1, zip2)\n",
    "    \n",
    "    ## print\n",
    "    if measure == \"miles\":\n",
    "        return distance.miles\n",
    "    else:\n",
    "        return distance.km"
   ]
  }
 ],
 "metadata": {
  "kernelspec": {
   "display_name": "Python 3",
   "language": "python",
   "name": "python3"
  },
  "language_info": {
   "codemirror_mode": {
    "name": "ipython",
    "version": 3
   },
   "file_extension": ".py",
   "mimetype": "text/x-python",
   "name": "python",
   "nbconvert_exporter": "python",
   "pygments_lexer": "ipython3",
   "version": "3.6.1"
  }
 },
 "nbformat": 4,
 "nbformat_minor": 2
}
